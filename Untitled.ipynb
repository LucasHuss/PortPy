{
 "cells": [
  {
   "cell_type": "code",
   "execution_count": 1,
   "id": "7ed8f1c2",
   "metadata": {},
   "outputs": [
    {
     "name": "stdout",
     "output_type": "stream",
     "text": [
      "Requirement already satisfied: natsort in c:\\users\\jhanwarg\\anaconda3\\lib\\site-packages (8.2.0)\n",
      "Requirement already satisfied: opencv-python in c:\\users\\jhanwarg\\anaconda3\\lib\\site-packages (4.6.0.66)\n",
      "Requirement already satisfied: numpy>=1.14.5 in c:\\users\\jhanwarg\\anaconda3\\lib\\site-packages (from opencv-python) (1.20.3)\n",
      "Requirement already satisfied: Shapely in c:\\users\\jhanwarg\\anaconda3\\lib\\site-packages (1.8.4)\n"
     ]
    }
   ],
   "source": [
    "!pip install natsort\n",
    "!pip install opencv-python\n",
    "!pip install Shapely"
   ]
  },
  {
   "cell_type": "code",
   "execution_count": 2,
   "id": "08375444",
   "metadata": {},
   "outputs": [],
   "source": [
    "import numpy as np\n",
    "import os\n",
    "import pandas as pd\n"
   ]
  },
  {
   "cell_type": "code",
   "execution_count": 3,
   "id": "21e6b6e2",
   "metadata": {},
   "outputs": [],
   "source": [
    "import json\n",
    "import os\n",
    "from natsort import natsorted\n",
    "\n",
    "import itertools\n",
    "def listtodict(jsondata):\n",
    "    '''\n",
    "    A recursive function which constructs from dictionary from list of dictionary\n",
    "    '''\n",
    "    jsondict = {}\n",
    "    if type(jsondata) is list:\n",
    "        for i in range(len(jsondata)):\n",
    "            elem = jsondata[i]\n",
    "            if type(elem) is list:\n",
    "                jsondict[i] = listtodict(elem)\n",
    "            else:\n",
    "                for key in elem:\n",
    "                    jsondict.setdefault(key, []).append(elem[key])\n",
    "    else:\n",
    "        jsondict = jsondata.copy()\n",
    "    return jsondict\n",
    "\n",
    "\n",
    "def load_metadata(path):\n",
    "    meta_data = dict()\n",
    "\n",
    "    fname = os.path.join(path, 'StructureSet_MetaData.json')\n",
    "    # Opening JSON file\n",
    "    f = open(fname)\n",
    "    jsondata = json.load(f)\n",
    "    meta_data['structures'] = listtodict(jsondata)\n",
    "\n",
    "\n",
    "    # fname = os.path.join(path, 'MachineParams_MetaData.json')\n",
    "    # # Opening JSON file\n",
    "    # f = open(fname)\n",
    "    # jsondata = json.load(f)\n",
    "    # meta_data['machineParams'] = listtodict(jsondata)\n",
    "\n",
    "    fname = os.path.join(path, 'OptimizationVoxels_MetaData.json')\n",
    "    # Opening JSON file\n",
    "    f = open(fname)\n",
    "    jsondata = json.load(f)\n",
    "    meta_data['opt_voxels'] = listtodict(jsondata)\n",
    "\n",
    "\n",
    "    fname = os.path.join(path, 'CT_MetaData.json')\n",
    "    if os.path.isfile(fname):\n",
    "        # Opening JSON file\n",
    "        f = open(fname)\n",
    "        jsondata = json.load(f)\n",
    "        meta_data['ct'] = listtodict(jsondata)\n",
    "\n",
    "    fname = os.path.join(path, 'ClinicalCriteria_MetaData.json')\n",
    "    # Opening JSON file\n",
    "    f = open(fname)\n",
    "    jsondata = json.load(f)\n",
    "    meta_data['clinical_criteria'] = listtodict(jsondata)\n",
    "\n",
    "    beamFolder = os.path.join(path, 'Beams')\n",
    "    beamsJson = [pos_json for pos_json in os.listdir(beamFolder) if pos_json.endswith('.json')]\n",
    "\n",
    "    beamsJson = natsorted(beamsJson)\n",
    "    meta_data['beams'] = dict()\n",
    "    for i in range(len(beamsJson)):\n",
    "        fname = os.path.join(beamFolder, beamsJson[i])\n",
    "        f = open(fname)\n",
    "        jsondata = json.load(f)\n",
    "\n",
    "        for key in jsondata:\n",
    "            meta_data['beams'].setdefault(key, []).append(jsondata[key])\n",
    "            # dataMeta['beamsMetaData'][key].append(jsondata[key])\n",
    "\n",
    "    meta_data['patient_folder_path'] = path\n",
    "    return meta_data\n"
   ]
  },
  {
   "cell_type": "code",
   "execution_count": 4,
   "id": "4504a1ac",
   "metadata": {},
   "outputs": [],
   "source": [
    "class Beam:\n",
    "    \"\"\"\n",
    "    A class representing each beam.\n",
    "    \"\"\"\n",
    "\n",
    "    # def __init__(self, ID, gantry_angle=None, collimator_angle=None, iso_center=None, beamlet_map_2d=None,\n",
    "    #              BEV_structure_mask=None, beamlet_width_mm=None, beamlet_height_mm=None, beam_modality=None, MLC_type=None):\n",
    "    def __init__(self, data):\n",
    "\n",
    "        self.ID = data['ID']\n",
    "        self.gantry_angle = data['gantry_angle']\n",
    "        self.collimator_angle = data['collimator_angle']\n",
    "        self.iso_center = data['iso_center']\n",
    "        self.jaw_position = data['jaw_position']\n",
    "        beamlet_opt = np.multiply(data['BEV_2d_beamlet_idx'], data['BEV_2d_structure_mask']['PTV'])\n",
    "        self.beamlet_opt_ID = beamlet_opt[np.nonzero(beamlet_opt)]\n",
    "        self.beamlet_opt = [data['beamlets'][i] for i in self.beamlet_opt_ID]\n",
    "        self.BEV_2d_beamlet_idx = data['BEV_2d_beamlet_idx']\n",
    "        self.BEV_2d_structure_mask = data['BEV_2d_structure_mask']\n",
    "        self.beam_modality = data['beam_modality']\n",
    "        self.MLC_type = data['MLC_type']\n",
    "        self.beam_modality = data['beam_modality']"
   ]
  },
  {
   "cell_type": "code",
   "execution_count": 8,
   "id": "9a4447c7",
   "metadata": {},
   "outputs": [],
   "source": [
    "patient_name = 'ECHO_PROST_1'\n",
    "patient_folder_path = os.path.join(os.getcwd(), \"..\", 'Data', patient_name)\n",
    "\n",
    "# read all the meta data for the required patient\n",
    "meta_data = load_metadata(patient_folder_path)\n"
   ]
  },
  {
   "cell_type": "code",
   "execution_count": 9,
   "id": "68b10ff6",
   "metadata": {},
   "outputs": [],
   "source": [
    "import os\n",
    "\n",
    "import numpy as np\n",
    "from scipy.sparse import csr_matrix\n",
    "import h5py\n",
    "\n",
    "\n",
    "def load_data(myData, folderPath):\n",
    "    # fn = myData.keys()\n",
    "    for key in myData.copy():\n",
    "        item = myData[key]\n",
    "        if type(item) is dict:\n",
    "            myData[key] = load_data(item, folderPath)\n",
    "        elif key.endswith('_File'):\n",
    "            success = 1\n",
    "            for i in range(np.size(myData[key])):\n",
    "                dataFolder = folderPath\n",
    "                if myData[key][i] is not None:\n",
    "                    if myData[key][i].startswith('Beam_'):\n",
    "                        dataFolder = os.path.join(dataFolder, 'Beams')\n",
    "                    if type(myData[key]) is not list:\n",
    "                        file_tag = myData[key].split('.h5')\n",
    "                    else:\n",
    "                        file_tag = myData[key][i].split('.h5')\n",
    "                    filename = os.path.join(dataFolder, file_tag[0] + '.h5')\n",
    "                    with h5py.File(filename, \"r\") as f:\n",
    "                        if file_tag[1] in f:\n",
    "                            if key[0:-5] == 'optimizationVoxIndices':\n",
    "                                vox = f[file_tag[1]][:].T.ravel()\n",
    "                                myData.setdefault(key[0:-5], []).append(vox.astype(int))\n",
    "                            elif key[0:-5] == 'BEV_2d_structure_mask':\n",
    "                                orgs = f[file_tag[1]].keys()\n",
    "                                organ_mask_dict = dict()\n",
    "                                for j in orgs:\n",
    "                                    organ_mask_dict[j] = f[file_tag[1]][j][:].T\n",
    "#                                     organ_mask_dict['Mask'].append(f[file_tag[1]][j][:].T)\n",
    "                                myData.setdefault(key[0:-5], []).append(organ_mask_dict)\n",
    "#                                 myData.setdefault(key[0:-5], []).append(f[file_tag[1]][j][:].T) \n",
    "                            else:\n",
    "                                myData.setdefault(key[0:-5], []).append(f[file_tag[1]][:].T)\n",
    "                            if key[0:-5] == 'influenceMatrixSparse' or key[0:-5] == 'influenceMatrixFull':\n",
    "                                infMatrixSparseForBeam = myData[key[0:-5]][i]\n",
    "                                myData[key[0:-5]][i] = csr_matrix((infMatrixSparseForBeam[:, 2], (infMatrixSparseForBeam[:, 0].astype(int),\n",
    "                                             infMatrixSparseForBeam[:, 1].astype(int))))\n",
    "                        else:\n",
    "                            print('Problem reading Data: {}'.format(myData[key][i]))\n",
    "                            success = 0\n",
    "            if success:\n",
    "                del myData[key]\n",
    "\n",
    "    return myData"
   ]
  },
  {
   "cell_type": "code",
   "execution_count": 10,
   "id": "675ac2c4",
   "metadata": {},
   "outputs": [],
   "source": [
    "my_plan = meta_data.copy()\n",
    "del my_plan['beams']\n",
    "beamReq = dict()\n",
    "inds = []\n",
    "beam_indices = [0,10,20,30]\n",
    "for i in range(len(beam_indices)):\n",
    "    if beam_indices[i] in meta_data['beams']['ID']:\n",
    "                ind = np.where(np.array(meta_data['beams']['ID']) == beam_indices[i])\n",
    "                ind = ind[0][0]\n",
    "                inds.append(ind)\n",
    "                for key in meta_data['beams']:\n",
    "                    beamReq.setdefault(key, []).append(meta_data['beams'][key][ind])\n",
    "my_plan['beams'] = beamReq\n",
    "if len(inds) < len(beam_indices):\n",
    "    print('some indices are not available')\n",
    "my_plan = load_data(my_plan, my_plan['patient_folder_path'])"
   ]
  },
  {
   "cell_type": "code",
   "execution_count": 11,
   "id": "700112fe",
   "metadata": {
    "scrolled": true
   },
   "outputs": [
    {
     "data": {
      "text/plain": [
       "{'voxel_coordinate_XYZ_mm': [array([[  6.144313, -29.52914 ,  22.68181 ],\n",
       "         [ 11.74265 , -29.33798 ,  22.45207 ],\n",
       "         [ 14.49644 , -29.67735 ,  23.95571 ],\n",
       "         ...,\n",
       "         [194.1377  , 104.3416  , 122.3785  ],\n",
       "         [196.6377  , 104.3416  , 122.3785  ],\n",
       "         [199.1377  , 104.3416  , 122.3785  ]])],\n",
       " 'voxel_resolution_XYZ_mm': [array([[4., 4., 4.],\n",
       "         [4., 4., 4.],\n",
       "         [4., 4., 4.],\n",
       "         ...,\n",
       "         [4., 4., 4.],\n",
       "         [4., 4., 4.],\n",
       "         [4., 4., 4.]])],\n",
       " 'voxel_structure_map': [array([[0, 0, 0, ..., 0, 0, 0],\n",
       "         [0, 0, 0, ..., 0, 0, 0],\n",
       "         [0, 0, 0, ..., 0, 0, 0],\n",
       "         ...,\n",
       "         [0, 0, 0, ..., 0, 0, 0],\n",
       "         [0, 0, 0, ..., 0, 0, 0],\n",
       "         [0, 0, 0, ..., 0, 0, 0]], dtype=uint32)]}"
      ]
     },
     "execution_count": 11,
     "metadata": {},
     "output_type": "execute_result"
    }
   ],
   "source": [
    "my_plan['opt_voxels']"
   ]
  },
  {
   "cell_type": "code",
   "execution_count": 12,
   "id": "8bff9157",
   "metadata": {},
   "outputs": [
    {
     "data": {
      "text/plain": [
       "array([[0, 0, 0, ..., 0, 0, 0],\n",
       "       [0, 0, 0, ..., 0, 0, 0],\n",
       "       [0, 0, 0, ..., 0, 0, 0],\n",
       "       ...,\n",
       "       [0, 0, 0, ..., 0, 0, 0],\n",
       "       [0, 0, 0, ..., 0, 0, 0],\n",
       "       [0, 0, 0, ..., 0, 0, 0]], dtype=uint32)"
      ]
     },
     "execution_count": 12,
     "metadata": {},
     "output_type": "execute_result"
    }
   ],
   "source": [
    "df = pd.DataFrame.from_dict(my_plan['beams'])\n",
    "# b = Beam(df.loc[0])\n",
    "df.loc[0]['BEV_2d_structure_mask']['PTV']"
   ]
  },
  {
   "cell_type": "code",
   "execution_count": 13,
   "id": "fa0950e2",
   "metadata": {
    "scrolled": true
   },
   "outputs": [
    {
     "data": {
      "text/plain": [
       "<matplotlib.image.AxesImage at 0x125bcb81d90>"
      ]
     },
     "execution_count": 13,
     "metadata": {},
     "output_type": "execute_result"
    },
    {
     "data": {
      "image/png": "[encoded data removed]",
      "text/plain": [
       "<Figure size 288x296.229 with 1 Axes>"
      ]
     },
     "metadata": {
      "needs_background": "light"
     },
     "output_type": "display_data"
    }
   ],
   "source": [
    "import matplotlib.pyplot as plt\n",
    "plt.matshow(df.loc[0]['BEV_2d_structure_mask']['PTV'])"
   ]
  },
  {
   "cell_type": "code",
   "execution_count": 14,
   "id": "15414517",
   "metadata": {
    "scrolled": true
   },
   "outputs": [],
   "source": [
    "b_test = Beam(df.loc[0])"
   ]
  },
  {
   "cell_type": "code",
   "execution_count": 15,
   "id": "3355b6bf",
   "metadata": {},
   "outputs": [
    {
     "data": {
      "text/plain": [
       "array([[595, 596, 597, ..., 627, 628, 629],\n",
       "       [595, 596, 597, ..., 627, 628, 629],\n",
       "       [560, 561, 562, ..., 592, 593, 594],\n",
       "       ...,\n",
       "       [ 35,  36,  37, ...,  67,  68,  69],\n",
       "       [  0,   1,   2, ...,  32,  33,  34],\n",
       "       [  0,   1,   2, ...,  32,  33,  34]], dtype=uint32)"
      ]
     },
     "execution_count": 15,
     "metadata": {},
     "output_type": "execute_result"
    }
   ],
   "source": [
    "b_test.BEV_2d_beamlet_idx"
   ]
  },
  {
   "cell_type": "code",
   "execution_count": 16,
   "id": "34ed0494",
   "metadata": {},
   "outputs": [],
   "source": [
    "import cv2\n",
    "from shapely.geometry import LinearRing, Polygon\n",
    "from skimage.draw import polygon\n",
    "\n",
    "class Beams:\n",
    "    \"\"\"\n",
    "    A class representing beams.\n",
    "    \"\"\"\n",
    "\n",
    "    # def __init__(self, ID, gantry_angle=None, collimator_angle=None, iso_center=None, beamlet_map_2d=None,\n",
    "    #              BEV_structure_mask=None, beamlet_width_mm=None, beamlet_height_mm=None, beam_modality=None, MLC_type=None):\n",
    "    def __init__(self, beams, opt_beamlets_PTV_margin_mm=None):\n",
    "        self.beams = beams\n",
    "        if opt_beamlets_PTV_margin_mm is None:\n",
    "            opt_beamlets_PTV_margin_mm = 3\n",
    "        self.opt_beamlets_PTV_margin_mm = opt_beamlets_PTV_margin_mm\n",
    "\n",
    "    def plot_BEV_2d_structure_mask(self, beam_id=None, organ=None):\n",
    "        plt.matshow(self.get_2d_structure_mask(beam_id, organ))\n",
    "\n",
    "    def get_BEV_2d_structure_mask(self, beam_id=None, organ=None, margin=0):\n",
    "        ind = np.where(np.array(self.beams['ID']) == beam_id)\n",
    "        ind = ind[0][0]\n",
    "        if margin == 0:\n",
    "            a_mask = self.beams['BEV_2d_structure_mask'][ind][organ]\n",
    "        else:\n",
    "            mask = self.beams['BEV_2d_structure_mask'][ind][organ]\n",
    "            mask = mask.astype('uint8')\n",
    "            contours, hierarchy = cv2.findContours(mask,cv2.RETR_EXTERNAL,cv2.CHAIN_APPROX_NONE)\n",
    "            for count_num in range(len(contours)):\n",
    "                polygon = []\n",
    "                for i in contours[count_num]:\n",
    "                    polygon.append((i[0][0], i[0][1]))\n",
    "                r = LinearRing(polygon)\n",
    "                s = Polygon(r)\n",
    "                t = Polygon(s.buffer(margin/2.5).exterior, [r])\n",
    "\n",
    "                if count_num == 0\n",
    "                    a_mask = np.zeros(shape=mask.shape[0:2]) # original\n",
    "                poly_coordinates = np.array(list(t.exterior.coords))\n",
    "                rr, cc = polygon(poly_coordinates[:,0], poly_coordinates[:,1], (mask.shape[1], mask.shape[0]))\n",
    "                a_mask[cc,rr] = 1\n",
    "        return a_mask\n",
    "\n",
    "    def get_2d_beamlet_idx(self, beam_id=None, organ='PTV', margin=0):\n",
    "        ind = np.where(np.array(self.beams['ID']) == beam_id)\n",
    "        ind = ind[0][0]\n",
    "        mask = self.get_2d_structure_mask(beam_id=beam_id, organ=organ, margin=margin)\n",
    "        idx_2d = np.multiply(self.beams[ind]['BEV_2d_beamlet_idx']+1, mask)\n",
    "        beam_map = np.int32(idx_2d) - np.int32(1)\n",
    "        return get_2d_beamlet_idx\n",
    "    \n",
    "    def get_original_map(self, beam_map):\n",
    "        rowsNoRepeat = [0]\n",
    "        for i in range(1, np.size(beam_map, 0)):\n",
    "            if (beam_map[i,:] != beam_map[rowsNoRepeat[-1], :]).any():\n",
    "                rowsNoRepeat.append(i)\n",
    "        colsNoRepeat = [0]\n",
    "        for j in range(1, np.size(beam_map, 1)):\n",
    "            if (beam_map[:, j] != beam_map[:, colsNoRepeat[-1]]).any():\n",
    "                colsNoRepeat.append(j)\n",
    "        beam_map = beam_map[np.ix_(np.asarray(rowsNoRepeat), np.asarray(colsNoRepeat))]\n",
    "        return beam_map\n"
   ]
  },
  {
   "cell_type": "code",
   "execution_count": 17,
   "id": "bcee8b94",
   "metadata": {},
   "outputs": [],
   "source": [
    "beam = Beams(my_plan['beams'])"
   ]
  },
  {
   "cell_type": "code",
   "execution_count": 18,
   "id": "2d4b4dc4",
   "metadata": {},
   "outputs": [],
   "source": [
    "\n",
    "# contour = contours[0]\n",
    "# mask[contour] = 10\n",
    "# plt.matshow(mask)\n",
    "# print(contour)\n",
    "# with np.printoptions(threshold=np.inf):\n",
    "#     print(mask)"
   ]
  },
  {
   "cell_type": "code",
   "execution_count": 19,
   "id": "8845b922",
   "metadata": {},
   "outputs": [
    {
     "data": {
      "image/png": "[encoded data removed]",
      "text/plain": [
       "<Figure size 288x296.229 with 1 Axes>"
      ]
     },
     "metadata": {
      "needs_background": "light"
     },
     "output_type": "display_data"
    }
   ],
   "source": [
    "# for i in contour:\n",
    "#     mask[i[0][1],i[0][0]] = 10\n",
    "# plt.matshow(mask)\n",
    "def scale_contour(cnt, scale):\n",
    "    M = cv2.moments(cnt)\n",
    "    cx = int(M['m10']/M['m00'])\n",
    "    cy = int(M['m01']/M['m00'])\n",
    "\n",
    "    cnt_norm = cnt - [cx, cy]\n",
    "    cnt_scaled = cnt_norm * scale\n",
    "    cnt_scaled = cnt_scaled + [cx, cy]\n",
    "    cnt_scaled = cnt_scaled.astype(np.int32)\n",
    "\n",
    "    return cnt_scaled\n",
    "for count_num in range(len(contours)):\n",
    "    cnt_scaled = scale_contour(contours[count_num], 3/2.5)\n",
    "    for i in cnt_scaled:\n",
    "        if i[0][0] >= 0 and i[0][0] <= (mask.shape[1]-1) and i[0][1] >= 0 and i[0][1] <= (mask.shape[0]-1):\n",
    "    #         print(i[0][1],i[0][0])\n",
    "            mask[i[0][1],i[0][0]] = 3\n",
    "    plt.matshow(mask)\n",
    "# cnt_scaled"
   ]
  },
  {
   "cell_type": "code",
   "execution_count": 227,
   "id": "d7513bb9",
   "metadata": {},
   "outputs": [],
   "source": [
    "\n",
    "# import numpy\n",
    "# from PIL import Image, ImageDraw\n",
    "\n",
    "# polygon = []\n",
    "# for i in cnt_scaled:\n",
    "#     polygon.append((i[0][0], i[0][1]))\n",
    "# polygon = np.array(polygon)\n",
    "# width = mask.shape[1]\n",
    "# height = mask.shape[0]\n",
    "\n",
    "# img = Image.new('L', (width, height), 0)\n",
    "# ImageDraw.Draw(img).polygon(polygon, outline=1, fill=1)\n",
    "# mask = numpy.array(img)\n",
    "\n",
    "\n",
    "# # Polygon corner points coordinates\n",
    "# pts = polygon\n",
    " \n",
    "# pts = pts.reshape((-1, 1, 2))\n",
    " \n",
    "# isClosed = True\n",
    " \n",
    "# # Blue color in BGR\n",
    "# color = (255, 0, 0)\n",
    " \n",
    "# # Line thickness of 2 px\n",
    "# thickness = 1\n",
    " \n",
    "# # Using cv2.polylines() method\n",
    "# # Draw a Blue polygon with\n",
    "# # thickness of 1 px\n",
    "# image = cv2.polylines(mask, [pts],\n",
    "#                       isClosed, color, thickness)\n",
    "\n",
    "# for x in range(mask.shape[1]):\n",
    "#     for y in range(mask.shape[0]):\n",
    "#         res = cv2.pointPolygonTest(cnt_scaled, (x, y), True)\n",
    "#         if res < 0:\n",
    "#             mask[y,x] = 0\n",
    "#         elif res > 0:\n",
    "#             mask[y,x] = 1\n",
    "#         else:\n",
    "#             mask[y,x] = 1\n",
    "\n",
    "# from matplotlib.patches import Polygon\n",
    "# p = Polygon(t_array, facecolor = 'k')\n",
    "\n",
    "# fig,ax = plt.subplots()\n",
    "\n",
    "# ax.add_patch(p)\n",
    "# ax.set_xlim([0,40])\n",
    "# ax.set_ylim([0,35])\n",
    "# plt.show()\n",
    "\n",
    "\n",
    "# import sympy import Point, Polygon\n",
    "# from sympy import Point, Polygon\n",
    "\n",
    "# poly = Polygon(*polygon)\n",
    "  \n",
    "# # using distance()\n",
    "# shortestDistance = poly.distance(Point(4, 2.8))\n",
    "  \n",
    "# print(shortestDistance)"
   ]
  },
  {
   "cell_type": "code",
   "execution_count": 71,
   "id": "8b35c9eb",
   "metadata": {
    "scrolled": true
   },
   "outputs": [
    {
     "name": "stdout",
     "output_type": "stream",
     "text": [
      "POLYGON ((4 4, 3 5, 3 6, 4 7, 4 8, 5 9, 5 10, 6 11, 6 12, 6 13, 6 14, 6 15, 6 16, 6 17, 6 18, 7 19, 7 20, 8 21, 8 22, 9 23, 9 24, 9 25, 9 26, 10 27, 10 28, 10 29, 11 30, 12 30, 13 30, 14 30, 15 31, 16 31, 17 31, 18 31, 19 31, 20 31, 21 31, 22 31, 23 30, 24 30, 25 29, 26 28, 27 27, 27 26, 28 25, 29 24, 29 23, 30 22, 30 21, 31 20, 31 19, 31 18, 31 17, 31 16, 30 15, 29 14, 28 13, 28 12, 28 11, 29 10, 29 9, 29 8, 29 7, 30 6, 30 5, 30 4, 29 4, 28 4, 27 4, 26 4, 25 4, 24 4, 23 4, 22 4, 21 4, 20 4, 19 4, 18 4, 17 4, 16 4, 15 4, 14 4, 13 4, 12 4, 11 4, 10 4, 9 4, 8 4, 7 4, 6 4, 5 4, 4 4))\n",
      "584.5\n",
      "446.7580459766316\n"
     ]
    },
    {
     "name": "stderr",
     "output_type": "stream",
     "text": [
      "C:\\Users\\JhanwarG\\AppData\\Local\\Temp/ipykernel_22364/251266885.py:13: ShapelyDeprecationWarning: The array interface is deprecated and will no longer work in Shapely 2.0. Convert the '.coords' to a numpy array instead.\n",
      "  t_array = np.asarray(t.exterior)\n"
     ]
    },
    {
     "data": {
      "image/svg+xml": [
       "<svg xmlns=\"http://www.w3.org/2000/svg\" xmlns:xlink=\"http://www.w3.org/1999/xlink\" width=\"100.0\" height=\"100.0\" viewBox=\"-2.44 -1.44 38.879999999999995 37.879999999999995\" preserveAspectRatio=\"xMinYMin meet\"><g transform=\"matrix(1,0,0,-1,0,35.0)\"><path fill-rule=\"evenodd\" fill=\"#66cc99\" stroke=\"#555555\" stroke-width=\"0.7776\" opacity=\"0.6\" d=\"M 0.06684934846168736,8.712882518471913 L 0.07685887838707828,8.780361288064514 L 0.1722386570711647,9.16113870901785 L 0.30448186995485305,9.53073372946036 L 0.47231494260658025,9.885586947303992 L 0.6741215507898186,10.222280932078409 L 0.907958186549052,10.537573136654583 L 1.0668493484616874,10.712882518471913 L 1.0768588783870783,10.780361288064514 L 1.1722386570711647,11.16113870901785 L 1.304481869954853,11.53073372946036 L 1.4723149426065802,11.885586947303992 L 1.6741215507898186,12.222280932078409 L 1.907958186549052,12.537573136654583 L 2.0,12.639125628455881 L 2.0,18.0 L 2.0192610933112127,18.392068561318244 L 2.0768588783870783,18.780361288064515 L 2.172238657071165,19.16113870901785 L 2.304481869954854,19.530733729460362 L 2.4723149426065802,19.88558694730399 L 2.67412155078982,20.22228093207841 L 2.9079581865490534,20.537573136654583 L 3.066849348461687,20.712882518471915 L 3.0768588783870783,20.780361288064515 L 3.172238657071165,21.16113870901785 L 3.304481869954854,21.530733729460362 L 3.4723149426065802,21.88558694730399 L 3.67412155078982,22.22228093207841 L 3.9079581865490534,22.537573136654583 L 4.066849348461687,22.712882518471915 L 4.076858878387078,22.780361288064515 L 4.172238657071166,23.16113870901785 L 4.304481869954854,23.530733729460362 L 4.47231494260658,23.88558694730399 L 4.67412155078982,24.22228093207841 L 4.907958186549053,24.537573136654583 L 5.0,24.639125628455883 L 5.0,26.0 L 5.019261093311213,26.392068561318244 L 5.076858878387078,26.780361288064515 L 5.172238657071166,27.16113870901785 L 5.304481869954854,27.530733729460362 L 5.47231494260658,27.88558694730399 L 5.67412155078982,28.22228093207841 L 5.907958186549053,28.537573136654583 L 6.0,28.639125628455883 L 6.0,29.0 L 6.019261093311213,29.392068561318244 L 6.076858878387078,29.780361288064515 L 6.172238657071166,30.16113870901785 L 6.304481869954854,30.530733729460362 L 6.47231494260658,30.88558694730399 L 6.67412155078982,31.22228093207841 L 6.907958186549053,31.537573136654583 L 7.17157287525381,31.82842712474619 L 8.17157287525381,32.82842712474619 L 8.46242686334542,33.09204181345095 L 8.777719067921591,33.32587844921018 L 9.114413052696012,33.52768505739342 L 9.469266270539642,33.695518130045144 L 9.838861290982152,33.82776134292884 L 10.219638711935488,33.92314112161292 L 10.607931438681758,33.980738906688785 L 11.0,34.0 L 12.36087437154412,34.0 L 12.46242686334542,34.09204181345095 L 12.777719067921591,34.32587844921018 L 13.114413052696012,34.52768505739342 L 13.469266270539642,34.695518130045144 L 13.838861290982152,34.82776134292884 L 14.219638711935488,34.92314112161292 L 14.607931438681758,34.980738906688785 L 15.0,35.0 L 22.0,35.0 L 22.392068561318244,34.980738906688785 L 22.780361288064512,34.92314112161292 L 23.161138709017848,34.82776134292884 L 23.53073372946036,34.695518130045144 L 23.88558694730399,34.52768505739342 L 24.22228093207841,34.32587844921018 L 24.537573136654583,34.09204181345095 L 24.71288251847192,33.93315065153831 L 24.780361288064512,33.92314112161292 L 25.161138709017848,33.82776134292884 L 25.53073372946036,33.695518130045144 L 25.88558694730399,33.52768505739342 L 26.22228093207841,33.32587844921018 L 26.537573136654583,33.09204181345095 L 26.82842712474619,32.82842712474619 L 29.82842712474619,29.82842712474619 L 30.092041813450948,29.537573136654583 L 30.32587844921018,29.22228093207841 L 30.52768505739342,28.88558694730399 L 30.695518130045148,28.53073372946036 L 30.827761342928834,28.161138709017848 L 30.92314112161292,27.780361288064512 L 30.93126592295083,27.725588326541555 L 31.82842712474619,26.82842712474619 L 32.09204181345095,26.537573136654583 L 32.32587844921018,26.22228093207841 L 32.52768505739342,25.88558694730399 L 32.695518130045144,25.53073372946036 L 32.82776134292884,25.161138709017848 L 32.92314112161292,24.780361288064512 L 32.93315065153831,24.71288251847192 L 33.09204181345095,24.537573136654583 L 33.32587844921018,24.22228093207841 L 33.52768505739342,23.88558694730399 L 33.695518130045144,23.53073372946036 L 33.82776134292884,23.161138709017848 L 33.92314112161292,22.780361288064512 L 33.93315065153831,22.71288251847192 L 34.09204181345095,22.537573136654583 L 34.32587844921018,22.22228093207841 L 34.52768505739342,21.88558694730399 L 34.695518130045144,21.53073372946036 L 34.82776134292884,21.161138709017848 L 34.92314112161292,20.780361288064512 L 34.980738906688785,20.392068561318244 L 35.0,20.0 L 35.0,16.0 L 34.980738906688785,15.607931438681758 L 34.92314112161292,15.219638711935488 L 34.82776134292884,14.838861290982152 L 34.695518130045144,14.469266270539642 L 34.52768505739342,14.11441305269601 L 34.32587844921018,13.777719067921591 L 34.09204181345095,13.462426863345419 L 33.82842712474619,13.17157287525381 L 32.53242321154345,11.87556896205107 L 32.695518130045144,11.530733729460358 L 32.82776134292884,11.161138709017848 L 32.92314112161292,10.780361288064512 L 32.980738906688785,10.392068561318242 L 33.0,10.0 L 33.0,8.639125628455881 L 33.09204181345095,8.537573136654581 L 33.32587844921018,8.222280932078409 L 33.52768505739342,7.88558694730399 L 33.695518130045144,7.5307337294603585 L 33.82776134292884,7.161138709017849 L 33.92314112161292,6.780361288064513 L 33.980738906688785,6.392068561318243 L 34.0,6.0 L 34.0,4.0 L 33.980738906688785,3.6079314386817574 L 33.92314112161292,3.2196387119354872 L 33.82776134292884,2.838861290982151 L 33.695518130045144,2.4692662705396407 L 33.52768505739342,2.114413052696009 L 33.32587844921018,1.7777190679215913 L 33.09204181345095,1.462426863345418 L 32.82842712474619,1.1715728752538097 L 32.53757313665458,0.9079581865490525 L 32.22228093207841,0.6741215507898191 L 31.88558694730399,0.47231494260658025 L 31.53073372946036,0.30448186995485305 L 31.161138709017848,0.17223865707116426 L 30.780361288064512,0.07685887838707828 L 30.392068561318244,0.01926109331121273 L 30.0,0.0 L 4.0,0.0 L 3.6079314386817574,0.019261093311212285 L 3.2196387119354872,0.07685887838707828 L 2.8388612909821513,0.17223865707116426 L 2.469266270539641,0.30448186995485305 L 2.114413052696009,0.4723149426065798 L 1.7777190679215922,0.6741215507898186 L 1.4624268633454185,0.9079581865490516 L 1.1715728752538102,1.1715728752538102 L 0.17157287525381015,2.17157287525381 L -0.09204181345094842,2.462426863345419 L -0.32587844921018183,2.777719067921592 L -0.5276850573934202,3.114413052696009 L -0.6955181300451474,3.4692662705396415 L -0.8277613429288357,3.838861290982152 L -0.9231411216129217,4.219638711935486 L -0.9807389066887877,4.607931438681757 L -1.0,5.0 L -1.0,6.0 L -0.9807389066887873,6.3920685613182435 L -0.9231411216129217,6.7803612880645145 L -0.8277613429288353,7.16113870901785 L -0.695518130045147,7.530733729460359 L -0.5276850573934198,7.885586947303992 L -0.3258784492101814,8.222280932078409 L -0.09204181345094797,8.537573136654583 L 0.06684934846168736,8.712882518471913 z M 4.0,4.0 L 3.0,5.0 L 3.0,6.0 L 4.0,7.0 L 4.0,8.0 L 5.0,9.0 L 5.0,10.0 L 6.0,11.0 L 6.0,12.0 L 6.0,13.0 L 6.0,14.0 L 6.0,15.0 L 6.0,16.0 L 6.0,17.0 L 6.0,18.0 L 7.0,19.0 L 7.0,20.0 L 8.0,21.0 L 8.0,22.0 L 9.0,23.0 L 9.0,24.0 L 9.0,25.0 L 9.0,26.0 L 10.0,27.0 L 10.0,28.0 L 10.0,29.0 L 11.0,30.0 L 12.0,30.0 L 13.0,30.0 L 14.0,30.0 L 15.0,31.0 L 16.0,31.0 L 17.0,31.0 L 18.0,31.0 L 19.0,31.0 L 20.0,31.0 L 21.0,31.0 L 22.0,31.0 L 23.0,30.0 L 24.0,30.0 L 25.0,29.0 L 26.0,28.0 L 27.0,27.0 L 27.0,26.0 L 28.0,25.0 L 29.0,24.0 L 29.0,23.0 L 30.0,22.0 L 30.0,21.0 L 31.0,20.0 L 31.0,19.0 L 31.0,18.0 L 31.0,17.0 L 31.0,16.0 L 30.0,15.0 L 29.0,14.0 L 28.0,13.0 L 28.0,12.0 L 28.0,11.0 L 29.0,10.0 L 29.0,9.0 L 29.0,8.0 L 29.0,7.0 L 30.0,6.0 L 30.0,5.0 L 30.0,4.0 L 29.0,4.0 L 28.0,4.0 L 27.0,4.0 L 26.0,4.0 L 25.0,4.0 L 24.0,4.0 L 23.0,4.0 L 22.0,4.0 L 21.0,4.0 L 20.0,4.0 L 19.0,4.0 L 18.0,4.0 L 17.0,4.0 L 16.0,4.0 L 15.0,4.0 L 14.0,4.0 L 13.0,4.0 L 12.0,4.0 L 11.0,4.0 L 10.0,4.0 L 9.0,4.0 L 8.0,4.0 L 7.0,4.0 L 6.0,4.0 L 5.0,4.0 L 4.0,4.0 z\" /></g></svg>"
      ],
      "text/plain": [
       "<shapely.geometry.polygon.Polygon at 0x125b6393f40>"
      ]
     },
     "execution_count": 71,
     "metadata": {},
     "output_type": "execute_result"
    }
   ],
   "source": [
    "import cv2\n",
    "from shapely.geometry import LinearRing, Polygon\n",
    "from skimage.draw import polygon\n",
    "\n",
    "\n",
    "mask = beam.get_2d_structure_mask(beam_id=0, organ='PTV', margin=0)\n",
    "mask = mask.astype('uint8')\n",
    "contours, hierarchy = cv2.findContours(mask,cv2.RETR_EXTERNAL,cv2.CHAIN_APPROX_NONE)\n",
    "for count_num in range(len(contours)):\n",
    "    polygon = []\n",
    "    for i in contours[count_num]:\n",
    "        polygon.append((i[0][0], i[0][1]))\n",
    "    r = LinearRing(polygon)\n",
    "    s = Polygon(r)\n",
    "    t = Polygon(s.buffer(10/2.5).exterior, [r])\n",
    "    \n",
    "    if count_num == 0\n",
    "        a_mask = np.zeros(shape=mask.shape[0:2]) # original\n",
    "    poly_coordinates = np.array(list(t.exterior.coords))\n",
    "    rr, cc = polygon(poly_coordinates[:,0], poly_coordinates[:,1], (mask.shape[1], mask.shape[0]))\n",
    "    a_mask[cc,rr] = 1"
   ]
  },
  {
   "cell_type": "code",
   "execution_count": 95,
   "id": "9174c213",
   "metadata": {},
   "outputs": [],
   "source": [
    "beam = Beams(my_plan['beams'])\n",
    "mask = beam.beams['BEV_2d_structure_mask'][0]['PTV']\n",
    "beam_map = beam.beams['BEV_2d_beamlet_idx'][0]\n",
    "idx_2d = np.multiply(beam_map+1, mask)\n",
    "# a = np.sort(idx_2d.flatten())\n",
    "# a = np.unique(a)\n",
    "# secondMin = a[1]\n",
    "standard_map = np.int32(idx_2d) - secondMin * np.int32(mask) + np.int32(mask)\n",
    "standard_map[standard_map==0] = -1\n",
    "# standard_map = standard_mapnp.where(arr != None)"
   ]
  },
  {
   "cell_type": "code",
   "execution_count": 122,
   "id": "e1a8b41f",
   "metadata": {},
   "outputs": [],
   "source": [
    "vox_ind = np.where(my_plan['opt_voxels']['voxel_structure_map'][0][:,0]==1)"
   ]
  },
  {
   "cell_type": "code",
   "execution_count": 135,
   "id": "3862263b",
   "metadata": {},
   "outputs": [
    {
     "data": {
      "text/plain": [
       "array([1, 1, 1, ..., 0, 0, 0], dtype=uint32)"
      ]
     },
     "execution_count": 135,
     "metadata": {},
     "output_type": "execute_result"
    }
   ],
   "source": []
  }
 ],
 "metadata": {
  "kernelspec": {
   "display_name": "Python 3 (ipykernel)",
   "language": "python",
   "name": "python3"
  },
  "language_info": {
   "codemirror_mode": {
    "name": "ipython",
    "version": 3
   },
   "file_extension": ".py",
   "mimetype": "text/x-python",
   "name": "python",
   "nbconvert_exporter": "python",
   "pygments_lexer": "ipython3",
   "version": "3.9.7"
  }
 },
 "nbformat": 4,
 "nbformat_minor": 5
}
